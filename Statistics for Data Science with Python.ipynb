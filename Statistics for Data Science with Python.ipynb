{
 "cells": [
  {
   "cell_type": "code",
   "execution_count": 2,
   "id": "2cbcbc8c",
   "metadata": {},
   "outputs": [
    {
     "name": "stdout",
     "output_type": "stream",
     "text": [
      "In the name of Allah, the most Benoficient, the most Merciful.\n"
     ]
    }
   ],
   "source": [
    "tasmia = \"In the name of Allah, the most Benoficient, the most Merciful.\"\n",
    "print(tasmia)"
   ]
  },
  {
   "cell_type": "markdown",
   "id": "8574eeab",
   "metadata": {},
   "source": [
    "### Import Libraries"
   ]
  },
  {
   "cell_type": "code",
   "execution_count": 3,
   "id": "903e4453",
   "metadata": {},
   "outputs": [],
   "source": [
    "import numpy as np\n",
    "import pandas as pd\n",
    "from scipy.stats import ttest_ind, levene, f_oneway, chi2_contingency, pearsonr\n",
    "import scipy.stats\n",
    "import seaborn as sns\n",
    "import matplotlib.pyplot as plt"
   ]
  },
  {
   "cell_type": "markdown",
   "id": "dcfd1e7d",
   "metadata": {},
   "source": [
    "### Import Dataset"
   ]
  },
  {
   "cell_type": "code",
   "execution_count": 4,
   "id": "188deca3",
   "metadata": {},
   "outputs": [
    {
     "data": {
      "text/html": [
       "<div>\n",
       "<style scoped>\n",
       "    .dataframe tbody tr th:only-of-type {\n",
       "        vertical-align: middle;\n",
       "    }\n",
       "\n",
       "    .dataframe tbody tr th {\n",
       "        vertical-align: top;\n",
       "    }\n",
       "\n",
       "    .dataframe thead th {\n",
       "        text-align: right;\n",
       "    }\n",
       "</style>\n",
       "<table border=\"1\" class=\"dataframe\">\n",
       "  <thead>\n",
       "    <tr style=\"text-align: right;\">\n",
       "      <th></th>\n",
       "      <th>minority</th>\n",
       "      <th>age</th>\n",
       "      <th>gender</th>\n",
       "      <th>credits</th>\n",
       "      <th>beauty</th>\n",
       "      <th>eval</th>\n",
       "      <th>division</th>\n",
       "      <th>native</th>\n",
       "      <th>tenure</th>\n",
       "      <th>students</th>\n",
       "      <th>allstudents</th>\n",
       "      <th>prof</th>\n",
       "      <th>PrimaryLast</th>\n",
       "      <th>vismin</th>\n",
       "      <th>female</th>\n",
       "      <th>single_credit</th>\n",
       "      <th>upper_division</th>\n",
       "      <th>English_speaker</th>\n",
       "      <th>tenured_prof</th>\n",
       "    </tr>\n",
       "  </thead>\n",
       "  <tbody>\n",
       "    <tr>\n",
       "      <th>350</th>\n",
       "      <td>no</td>\n",
       "      <td>52</td>\n",
       "      <td>male</td>\n",
       "      <td>more</td>\n",
       "      <td>0.756683</td>\n",
       "      <td>3.5</td>\n",
       "      <td>upper</td>\n",
       "      <td>yes</td>\n",
       "      <td>yes</td>\n",
       "      <td>46</td>\n",
       "      <td>69</td>\n",
       "      <td>72</td>\n",
       "      <td>0</td>\n",
       "      <td>0</td>\n",
       "      <td>0</td>\n",
       "      <td>0</td>\n",
       "      <td>1</td>\n",
       "      <td>1</td>\n",
       "      <td>1</td>\n",
       "    </tr>\n",
       "    <tr>\n",
       "      <th>30</th>\n",
       "      <td>no</td>\n",
       "      <td>33</td>\n",
       "      <td>female</td>\n",
       "      <td>more</td>\n",
       "      <td>-0.126001</td>\n",
       "      <td>4.0</td>\n",
       "      <td>upper</td>\n",
       "      <td>yes</td>\n",
       "      <td>yes</td>\n",
       "      <td>33</td>\n",
       "      <td>41</td>\n",
       "      <td>7</td>\n",
       "      <td>0</td>\n",
       "      <td>0</td>\n",
       "      <td>1</td>\n",
       "      <td>0</td>\n",
       "      <td>1</td>\n",
       "      <td>1</td>\n",
       "      <td>1</td>\n",
       "    </tr>\n",
       "    <tr>\n",
       "      <th>289</th>\n",
       "      <td>no</td>\n",
       "      <td>32</td>\n",
       "      <td>male</td>\n",
       "      <td>more</td>\n",
       "      <td>-0.326015</td>\n",
       "      <td>4.3</td>\n",
       "      <td>upper</td>\n",
       "      <td>yes</td>\n",
       "      <td>yes</td>\n",
       "      <td>20</td>\n",
       "      <td>22</td>\n",
       "      <td>56</td>\n",
       "      <td>0</td>\n",
       "      <td>0</td>\n",
       "      <td>0</td>\n",
       "      <td>0</td>\n",
       "      <td>1</td>\n",
       "      <td>1</td>\n",
       "      <td>1</td>\n",
       "    </tr>\n",
       "    <tr>\n",
       "      <th>129</th>\n",
       "      <td>no</td>\n",
       "      <td>62</td>\n",
       "      <td>male</td>\n",
       "      <td>more</td>\n",
       "      <td>-0.733091</td>\n",
       "      <td>3.7</td>\n",
       "      <td>lower</td>\n",
       "      <td>yes</td>\n",
       "      <td>yes</td>\n",
       "      <td>80</td>\n",
       "      <td>157</td>\n",
       "      <td>23</td>\n",
       "      <td>0</td>\n",
       "      <td>0</td>\n",
       "      <td>0</td>\n",
       "      <td>0</td>\n",
       "      <td>0</td>\n",
       "      <td>1</td>\n",
       "      <td>1</td>\n",
       "    </tr>\n",
       "    <tr>\n",
       "      <th>316</th>\n",
       "      <td>no</td>\n",
       "      <td>52</td>\n",
       "      <td>female</td>\n",
       "      <td>more</td>\n",
       "      <td>-1.090389</td>\n",
       "      <td>4.4</td>\n",
       "      <td>upper</td>\n",
       "      <td>yes</td>\n",
       "      <td>no</td>\n",
       "      <td>45</td>\n",
       "      <td>52</td>\n",
       "      <td>65</td>\n",
       "      <td>0</td>\n",
       "      <td>0</td>\n",
       "      <td>1</td>\n",
       "      <td>0</td>\n",
       "      <td>1</td>\n",
       "      <td>1</td>\n",
       "      <td>0</td>\n",
       "    </tr>\n",
       "  </tbody>\n",
       "</table>\n",
       "</div>"
      ],
      "text/plain": [
       "    minority  age  gender credits    beauty  eval division native tenure  \\\n",
       "350       no   52    male    more  0.756683   3.5    upper    yes    yes   \n",
       "30        no   33  female    more -0.126001   4.0    upper    yes    yes   \n",
       "289       no   32    male    more -0.326015   4.3    upper    yes    yes   \n",
       "129       no   62    male    more -0.733091   3.7    lower    yes    yes   \n",
       "316       no   52  female    more -1.090389   4.4    upper    yes     no   \n",
       "\n",
       "     students  allstudents  prof  PrimaryLast  vismin  female  single_credit  \\\n",
       "350        46           69    72            0       0       0              0   \n",
       "30         33           41     7            0       0       1              0   \n",
       "289        20           22    56            0       0       0              0   \n",
       "129        80          157    23            0       0       0              0   \n",
       "316        45           52    65            0       0       1              0   \n",
       "\n",
       "     upper_division  English_speaker  tenured_prof  \n",
       "350               1                1             1  \n",
       "30                1                1             1  \n",
       "289               1                1             1  \n",
       "129               0                1             1  \n",
       "316               1                1             0  "
      ]
     },
     "execution_count": 4,
     "metadata": {},
     "output_type": "execute_result"
    }
   ],
   "source": [
    "df = pd.read_csv(\"teachingratings.csv\")\n",
    "df.sample(5)"
   ]
  },
  {
   "cell_type": "code",
   "execution_count": 5,
   "id": "493f66cb",
   "metadata": {},
   "outputs": [
    {
     "data": {
      "text/html": [
       "<div>\n",
       "<style scoped>\n",
       "    .dataframe tbody tr th:only-of-type {\n",
       "        vertical-align: middle;\n",
       "    }\n",
       "\n",
       "    .dataframe tbody tr th {\n",
       "        vertical-align: top;\n",
       "    }\n",
       "\n",
       "    .dataframe thead th {\n",
       "        text-align: right;\n",
       "    }\n",
       "</style>\n",
       "<table border=\"1\" class=\"dataframe\">\n",
       "  <thead>\n",
       "    <tr style=\"text-align: right;\">\n",
       "      <th></th>\n",
       "      <th>age</th>\n",
       "      <th>beauty</th>\n",
       "      <th>eval</th>\n",
       "      <th>students</th>\n",
       "      <th>allstudents</th>\n",
       "      <th>prof</th>\n",
       "      <th>PrimaryLast</th>\n",
       "      <th>vismin</th>\n",
       "      <th>female</th>\n",
       "      <th>single_credit</th>\n",
       "      <th>upper_division</th>\n",
       "      <th>English_speaker</th>\n",
       "      <th>tenured_prof</th>\n",
       "    </tr>\n",
       "  </thead>\n",
       "  <tbody>\n",
       "    <tr>\n",
       "      <th>count</th>\n",
       "      <td>463.000000</td>\n",
       "      <td>4.630000e+02</td>\n",
       "      <td>463.000000</td>\n",
       "      <td>463.000000</td>\n",
       "      <td>463.000000</td>\n",
       "      <td>463.000000</td>\n",
       "      <td>463.000000</td>\n",
       "      <td>463.000000</td>\n",
       "      <td>463.000000</td>\n",
       "      <td>463.000000</td>\n",
       "      <td>463.000000</td>\n",
       "      <td>463.000000</td>\n",
       "      <td>463.000000</td>\n",
       "    </tr>\n",
       "    <tr>\n",
       "      <th>mean</th>\n",
       "      <td>48.365011</td>\n",
       "      <td>6.271140e-08</td>\n",
       "      <td>3.998272</td>\n",
       "      <td>36.624190</td>\n",
       "      <td>55.177106</td>\n",
       "      <td>45.434125</td>\n",
       "      <td>0.203024</td>\n",
       "      <td>0.138229</td>\n",
       "      <td>0.421166</td>\n",
       "      <td>0.058315</td>\n",
       "      <td>0.660907</td>\n",
       "      <td>0.939525</td>\n",
       "      <td>0.779698</td>\n",
       "    </tr>\n",
       "    <tr>\n",
       "      <th>std</th>\n",
       "      <td>9.802742</td>\n",
       "      <td>7.886477e-01</td>\n",
       "      <td>0.554866</td>\n",
       "      <td>45.018481</td>\n",
       "      <td>75.072800</td>\n",
       "      <td>27.508902</td>\n",
       "      <td>0.402685</td>\n",
       "      <td>0.345513</td>\n",
       "      <td>0.494280</td>\n",
       "      <td>0.234592</td>\n",
       "      <td>0.473913</td>\n",
       "      <td>0.238623</td>\n",
       "      <td>0.414899</td>\n",
       "    </tr>\n",
       "    <tr>\n",
       "      <th>min</th>\n",
       "      <td>29.000000</td>\n",
       "      <td>-1.450494e+00</td>\n",
       "      <td>2.100000</td>\n",
       "      <td>5.000000</td>\n",
       "      <td>8.000000</td>\n",
       "      <td>1.000000</td>\n",
       "      <td>0.000000</td>\n",
       "      <td>0.000000</td>\n",
       "      <td>0.000000</td>\n",
       "      <td>0.000000</td>\n",
       "      <td>0.000000</td>\n",
       "      <td>0.000000</td>\n",
       "      <td>0.000000</td>\n",
       "    </tr>\n",
       "    <tr>\n",
       "      <th>25%</th>\n",
       "      <td>42.000000</td>\n",
       "      <td>-6.562689e-01</td>\n",
       "      <td>3.600000</td>\n",
       "      <td>15.000000</td>\n",
       "      <td>19.000000</td>\n",
       "      <td>20.000000</td>\n",
       "      <td>0.000000</td>\n",
       "      <td>0.000000</td>\n",
       "      <td>0.000000</td>\n",
       "      <td>0.000000</td>\n",
       "      <td>0.000000</td>\n",
       "      <td>1.000000</td>\n",
       "      <td>1.000000</td>\n",
       "    </tr>\n",
       "    <tr>\n",
       "      <th>50%</th>\n",
       "      <td>48.000000</td>\n",
       "      <td>-6.801430e-02</td>\n",
       "      <td>4.000000</td>\n",
       "      <td>23.000000</td>\n",
       "      <td>29.000000</td>\n",
       "      <td>44.000000</td>\n",
       "      <td>0.000000</td>\n",
       "      <td>0.000000</td>\n",
       "      <td>0.000000</td>\n",
       "      <td>0.000000</td>\n",
       "      <td>1.000000</td>\n",
       "      <td>1.000000</td>\n",
       "      <td>1.000000</td>\n",
       "    </tr>\n",
       "    <tr>\n",
       "      <th>75%</th>\n",
       "      <td>57.000000</td>\n",
       "      <td>5.456024e-01</td>\n",
       "      <td>4.400000</td>\n",
       "      <td>40.000000</td>\n",
       "      <td>60.000000</td>\n",
       "      <td>70.500000</td>\n",
       "      <td>0.000000</td>\n",
       "      <td>0.000000</td>\n",
       "      <td>1.000000</td>\n",
       "      <td>0.000000</td>\n",
       "      <td>1.000000</td>\n",
       "      <td>1.000000</td>\n",
       "      <td>1.000000</td>\n",
       "    </tr>\n",
       "    <tr>\n",
       "      <th>max</th>\n",
       "      <td>73.000000</td>\n",
       "      <td>1.970023e+00</td>\n",
       "      <td>5.000000</td>\n",
       "      <td>380.000000</td>\n",
       "      <td>581.000000</td>\n",
       "      <td>94.000000</td>\n",
       "      <td>1.000000</td>\n",
       "      <td>1.000000</td>\n",
       "      <td>1.000000</td>\n",
       "      <td>1.000000</td>\n",
       "      <td>1.000000</td>\n",
       "      <td>1.000000</td>\n",
       "      <td>1.000000</td>\n",
       "    </tr>\n",
       "  </tbody>\n",
       "</table>\n",
       "</div>"
      ],
      "text/plain": [
       "              age        beauty        eval    students  allstudents  \\\n",
       "count  463.000000  4.630000e+02  463.000000  463.000000   463.000000   \n",
       "mean    48.365011  6.271140e-08    3.998272   36.624190    55.177106   \n",
       "std      9.802742  7.886477e-01    0.554866   45.018481    75.072800   \n",
       "min     29.000000 -1.450494e+00    2.100000    5.000000     8.000000   \n",
       "25%     42.000000 -6.562689e-01    3.600000   15.000000    19.000000   \n",
       "50%     48.000000 -6.801430e-02    4.000000   23.000000    29.000000   \n",
       "75%     57.000000  5.456024e-01    4.400000   40.000000    60.000000   \n",
       "max     73.000000  1.970023e+00    5.000000  380.000000   581.000000   \n",
       "\n",
       "             prof  PrimaryLast      vismin      female  single_credit  \\\n",
       "count  463.000000   463.000000  463.000000  463.000000     463.000000   \n",
       "mean    45.434125     0.203024    0.138229    0.421166       0.058315   \n",
       "std     27.508902     0.402685    0.345513    0.494280       0.234592   \n",
       "min      1.000000     0.000000    0.000000    0.000000       0.000000   \n",
       "25%     20.000000     0.000000    0.000000    0.000000       0.000000   \n",
       "50%     44.000000     0.000000    0.000000    0.000000       0.000000   \n",
       "75%     70.500000     0.000000    0.000000    1.000000       0.000000   \n",
       "max     94.000000     1.000000    1.000000    1.000000       1.000000   \n",
       "\n",
       "       upper_division  English_speaker  tenured_prof  \n",
       "count      463.000000       463.000000    463.000000  \n",
       "mean         0.660907         0.939525      0.779698  \n",
       "std          0.473913         0.238623      0.414899  \n",
       "min          0.000000         0.000000      0.000000  \n",
       "25%          0.000000         1.000000      1.000000  \n",
       "50%          1.000000         1.000000      1.000000  \n",
       "75%          1.000000         1.000000      1.000000  \n",
       "max          1.000000         1.000000      1.000000  "
      ]
     },
     "execution_count": 5,
     "metadata": {},
     "output_type": "execute_result"
    }
   ],
   "source": [
    "df.describe()"
   ]
  },
  {
   "cell_type": "markdown",
   "id": "b2fb24a7",
   "metadata": {},
   "source": [
    "### <code>T-Test</code>\n",
    "\n",
    "**<code>Null Hypothesis:</code>       Evaluation score is independent of female and male instructors** <p>\n",
    "**<code>Alternate Hypothesis:</code>  Evaluation score depends on female and male instructors**"
   ]
  },
  {
   "cell_type": "code",
   "execution_count": 6,
   "id": "630152b3",
   "metadata": {},
   "outputs": [
    {
     "data": {
      "text/plain": [
       "Ttest_indResult(statistic=3.249937943510772, pvalue=0.0012387609449522217)"
      ]
     },
     "execution_count": 6,
     "metadata": {},
     "output_type": "execute_result"
    }
   ],
   "source": [
    "ttest_ind(df[df[\"gender\"] == \"male\"][\"eval\"], df[df[\"gender\"] == \"female\"][\"eval\"])"
   ]
  },
  {
   "cell_type": "raw",
   "id": "9044351f",
   "metadata": {},
   "source": [
    "We reject null hypothesis as p-value < 0.05"
   ]
  },
  {
   "cell_type": "markdown",
   "id": "71602374",
   "metadata": {},
   "source": [
    "### Probability of Getting a High or Low Teaching Evaluation"
   ]
  },
  {
   "cell_type": "code",
   "execution_count": 7,
   "id": "84b3864f",
   "metadata": {},
   "outputs": [
    {
     "name": "stdout",
     "output_type": "stream",
     "text": [
      "3.998 0.555\n"
     ]
    }
   ],
   "source": [
    "eval_mean = round(df[\"eval\"].mean(), 3)\n",
    "eval_std = round(df[\"eval\"].std(), 3)\n",
    "\n",
    "print(eval_mean, eval_std)"
   ]
  },
  {
   "cell_type": "code",
   "execution_count": 8,
   "id": "103ff62f",
   "metadata": {},
   "outputs": [
    {
     "name": "stdout",
     "output_type": "stream",
     "text": [
      "0.1828639734596742\n"
     ]
    }
   ],
   "source": [
    "prob = scipy.stats.norm.cdf((4.5 - eval_mean) / eval_std)\n",
    "print(1- prob)"
   ]
  },
  {
   "cell_type": "markdown",
   "id": "e9bebb72",
   "metadata": {},
   "source": [
    "### <code>Levene Test</code>\n",
    "\n",
    "**<code>Null Hypothesis</code> Population Variances are equal**<p>\n",
    "**<code>Alternate Hypothesis</code> Populaion Variances are not equal**"
   ]
  },
  {
   "cell_type": "code",
   "execution_count": 9,
   "id": "3715314f",
   "metadata": {},
   "outputs": [
    {
     "data": {
      "text/plain": [
       "LeveneResult(statistic=0.19032922435292574, pvalue=0.6628469836244741)"
      ]
     },
     "execution_count": 9,
     "metadata": {},
     "output_type": "execute_result"
    }
   ],
   "source": [
    "levene(df[df[\"gender\"] == \"male\"][\"eval\"], df[df[\"gender\"] == \"female\"][\"eval\"], center = \"mean\")"
   ]
  },
  {
   "cell_type": "raw",
   "id": "2ec1042c",
   "metadata": {},
   "source": [
    "pvalue > 0.05, we reject alternate hypothesis"
   ]
  },
  {
   "cell_type": "markdown",
   "id": "dc0d96e0",
   "metadata": {},
   "source": [
    "### <code>ANOVA</code>\n",
    "**<code>Null Hypothesis</code> Samples have same mean values** <p>\n",
    "**<code>Alternate Hypothesis</code> Samples have different mean values**"
   ]
  },
  {
   "cell_type": "code",
   "execution_count": 10,
   "id": "4f6d586e",
   "metadata": {},
   "outputs": [],
   "source": [
    "def group(x):\n",
    "    if x <= 40:\n",
    "        return \"younger\"\n",
    "    elif x > 40 and x < 57:\n",
    "        return \"middle\"\n",
    "    else:\n",
    "        return \"older\"\n",
    "\n",
    "df[\"age_group\"] = df[\"age\"].apply(group)"
   ]
  },
  {
   "cell_type": "markdown",
   "id": "354546a3",
   "metadata": {},
   "source": [
    "**Statistics of beauty by age group**"
   ]
  },
  {
   "cell_type": "code",
   "execution_count": 11,
   "id": "f50897a8",
   "metadata": {},
   "outputs": [
    {
     "data": {
      "text/html": [
       "<div>\n",
       "<style scoped>\n",
       "    .dataframe tbody tr th:only-of-type {\n",
       "        vertical-align: middle;\n",
       "    }\n",
       "\n",
       "    .dataframe tbody tr th {\n",
       "        vertical-align: top;\n",
       "    }\n",
       "\n",
       "    .dataframe thead th {\n",
       "        text-align: right;\n",
       "    }\n",
       "</style>\n",
       "<table border=\"1\" class=\"dataframe\">\n",
       "  <thead>\n",
       "    <tr style=\"text-align: right;\">\n",
       "      <th></th>\n",
       "      <th>count</th>\n",
       "      <th>mean</th>\n",
       "      <th>std</th>\n",
       "    </tr>\n",
       "    <tr>\n",
       "      <th>age_group</th>\n",
       "      <th></th>\n",
       "      <th></th>\n",
       "      <th></th>\n",
       "    </tr>\n",
       "  </thead>\n",
       "  <tbody>\n",
       "    <tr>\n",
       "      <th>middle</th>\n",
       "      <td>228</td>\n",
       "      <td>-0.035111</td>\n",
       "      <td>0.686637</td>\n",
       "    </tr>\n",
       "    <tr>\n",
       "      <th>older</th>\n",
       "      <td>122</td>\n",
       "      <td>-0.245777</td>\n",
       "      <td>0.740720</td>\n",
       "    </tr>\n",
       "    <tr>\n",
       "      <th>younger</th>\n",
       "      <td>113</td>\n",
       "      <td>0.336196</td>\n",
       "      <td>0.913748</td>\n",
       "    </tr>\n",
       "  </tbody>\n",
       "</table>\n",
       "</div>"
      ],
      "text/plain": [
       "           count      mean       std\n",
       "age_group                           \n",
       "middle       228 -0.035111  0.686637\n",
       "older        122 -0.245777  0.740720\n",
       "younger      113  0.336196  0.913748"
      ]
     },
     "execution_count": 11,
     "metadata": {},
     "output_type": "execute_result"
    }
   ],
   "source": [
    "age_stats = df.groupby(\"age_group\")[\"beauty\"].agg([\"count\", \"mean\", \"std\"])\n",
    "age_stats"
   ]
  },
  {
   "cell_type": "markdown",
   "id": "92b5dea9",
   "metadata": {},
   "source": [
    "**Prepare Data**"
   ]
  },
  {
   "cell_type": "code",
   "execution_count": 12,
   "id": "57cdf98b",
   "metadata": {},
   "outputs": [],
   "source": [
    "younger = df[df[\"age_group\"] == \"younger\"][\"beauty\"]\n",
    "middle = df[df[\"age_group\"] == \"middle\"][\"beauty\"]\n",
    "older = df[df[\"age_group\"] == \"older\"][\"beauty\"]"
   ]
  },
  {
   "cell_type": "markdown",
   "id": "bf46bf0a",
   "metadata": {},
   "source": [
    "**f-oneway (ANOVA)**"
   ]
  },
  {
   "cell_type": "code",
   "execution_count": 13,
   "id": "64222daa",
   "metadata": {},
   "outputs": [
    {
     "name": "stdout",
     "output_type": "stream",
     "text": [
      "f-statistics = 17.597558611010122 p-value = 4.3225489816137975e-08\n"
     ]
    }
   ],
   "source": [
    "f_stats, pvalue = f_oneway(younger, middle, older)\n",
    "\n",
    "print(f\"f-statistics =\",f_stats, f\"p-value =\", pvalue)"
   ]
  },
  {
   "cell_type": "markdown",
   "id": "7ae7b8f4",
   "metadata": {},
   "source": [
    "**Test Results**"
   ]
  },
  {
   "cell_type": "code",
   "execution_count": 14,
   "id": "29e84e66",
   "metadata": {},
   "outputs": [
    {
     "name": "stdout",
     "output_type": "stream",
     "text": [
      "Alternate Hypothesis Accepted\n"
     ]
    }
   ],
   "source": [
    "if pvalue > 0.5:\n",
    "    print(\"Null Hypothesis Accepted\")\n",
    "else:\n",
    "    print(\"Alternate Hypothesis Accepted\")"
   ]
  },
  {
   "cell_type": "markdown",
   "id": "ab273d19",
   "metadata": {},
   "source": [
    "### <code>ANOVA</code>\n",
    "**<code>Null Hypothesis</code> Evalution score is not affected by instructor age**<p>\n",
    "**<code>Alternate Hypothesis</code> Evalution score is affected by instructor age**"
   ]
  },
  {
   "cell_type": "code",
   "execution_count": 15,
   "id": "e8e28098",
   "metadata": {},
   "outputs": [],
   "source": [
    "younger_eval = df[df[\"age_group\"] == \"younger\"][\"eval\"]\n",
    "middle_eval = df[df[\"age_group\"] == \"middle\"][\"eval\"]\n",
    "older_eval = df[df[\"age_group\"] == \"older\"][\"eval\"]"
   ]
  },
  {
   "cell_type": "markdown",
   "id": "dba22db1",
   "metadata": {},
   "source": [
    "**f-oneway ANOVA**"
   ]
  },
  {
   "cell_type": "code",
   "execution_count": 16,
   "id": "c920431a",
   "metadata": {},
   "outputs": [
    {
     "name": "stdout",
     "output_type": "stream",
     "text": [
      "f-statistics = 1.2226327996572206 pvalue = 0.29540894225417536\n"
     ]
    }
   ],
   "source": [
    "f_statistics, pvalue = f_oneway(younger_eval, middle_eval, older_eval)\n",
    "print(f\"f-statistics = {f_statistics}\", f\"pvalue = {pvalue}\")"
   ]
  },
  {
   "cell_type": "code",
   "execution_count": 17,
   "id": "6883201f",
   "metadata": {},
   "outputs": [
    {
     "name": "stdout",
     "output_type": "stream",
     "text": [
      "Accept Null Hypothesis\n"
     ]
    }
   ],
   "source": [
    "if pvalue > 0.05:\n",
    "    print(\"Accept Null Hypothesis\")\n",
    "\n",
    "else:\n",
    "    print(\"Accept Alternate Hypothesis\")"
   ]
  },
  {
   "cell_type": "markdown",
   "id": "679d3745",
   "metadata": {},
   "source": [
    "### <code>Chi-Squared Test</code>\n",
    "**<code>Null Hypothesis</code> There is association between gender and being tenured**<p>\n",
    "**<code>Alternate Hypothesis</code> There is no association between gender and being tenured**"
   ]
  },
  {
   "cell_type": "code",
   "execution_count": 18,
   "id": "0379931f",
   "metadata": {},
   "outputs": [],
   "source": [
    "mt = df[df[\"gender\"] == \"male\"][\"tenure\"]\n",
    "yt = df[df[\"gender\"] == \"female\"][\"tenure\"]"
   ]
  },
  {
   "cell_type": "markdown",
   "id": "60a4d99f",
   "metadata": {},
   "source": [
    "**Values**"
   ]
  },
  {
   "cell_type": "code",
   "execution_count": 19,
   "id": "b7cee5c2",
   "metadata": {},
   "outputs": [
    {
     "data": {
      "text/html": [
       "<div>\n",
       "<style scoped>\n",
       "    .dataframe tbody tr th:only-of-type {\n",
       "        vertical-align: middle;\n",
       "    }\n",
       "\n",
       "    .dataframe tbody tr th {\n",
       "        vertical-align: top;\n",
       "    }\n",
       "\n",
       "    .dataframe thead th {\n",
       "        text-align: right;\n",
       "    }\n",
       "</style>\n",
       "<table border=\"1\" class=\"dataframe\">\n",
       "  <thead>\n",
       "    <tr style=\"text-align: right;\">\n",
       "      <th>gender</th>\n",
       "      <th>female</th>\n",
       "      <th>male</th>\n",
       "    </tr>\n",
       "    <tr>\n",
       "      <th>tenure</th>\n",
       "      <th></th>\n",
       "      <th></th>\n",
       "    </tr>\n",
       "  </thead>\n",
       "  <tbody>\n",
       "    <tr>\n",
       "      <th>no</th>\n",
       "      <td>50</td>\n",
       "      <td>52</td>\n",
       "    </tr>\n",
       "    <tr>\n",
       "      <th>yes</th>\n",
       "      <td>145</td>\n",
       "      <td>216</td>\n",
       "    </tr>\n",
       "  </tbody>\n",
       "</table>\n",
       "</div>"
      ],
      "text/plain": [
       "gender  female  male\n",
       "tenure              \n",
       "no          50    52\n",
       "yes        145   216"
      ]
     },
     "execution_count": 19,
     "metadata": {},
     "output_type": "execute_result"
    }
   ],
   "source": [
    "mft = pd.crosstab(df[\"tenure\"],  df[\"gender\"])\n",
    "mft"
   ]
  },
  {
   "cell_type": "code",
   "execution_count": 20,
   "id": "b1ade3fa",
   "metadata": {},
   "outputs": [],
   "source": [
    "chisquare, pvalue, freedom, array = chi2_contingency(mft, correction = False)"
   ]
  },
  {
   "cell_type": "code",
   "execution_count": 21,
   "id": "65b2a7a1",
   "metadata": {},
   "outputs": [
    {
     "name": "stdout",
     "output_type": "stream",
     "text": [
      "Chi-Square Statistics = 2.557051129789522\n",
      " P-Value = 0.10980322511302845\n",
      " Degree of Freedom = 1\n",
      " Expected Values = [[ 42.95896328  59.04103672]\n",
      " [152.04103672 208.95896328]]\n"
     ]
    }
   ],
   "source": [
    "print(f\"Chi-Square Statistics = {chisquare}\\n P-Value = {pvalue}\\n Degree of Freedom = {freedom}\\n Expected Values = {array}\")"
   ]
  },
  {
   "cell_type": "code",
   "execution_count": 22,
   "id": "91e95dfd",
   "metadata": {},
   "outputs": [
    {
     "name": "stdout",
     "output_type": "stream",
     "text": [
      "Accept Null Hypothesis\n"
     ]
    }
   ],
   "source": [
    "if pvalue >= 0.05:\n",
    "    print(\"Accept Null Hypothesis\")\n",
    "else:\n",
    "    print(\"Accept Alternate Hypothesis\")"
   ]
  },
  {
   "cell_type": "markdown",
   "id": "4f56e26d",
   "metadata": {},
   "source": [
    "### <code>Pearson Correlation Test</code>\n",
    "**<code>Null Hypothesis</code> There is no correlation between instructor beauty score and evaluation score**<p>\n",
    "**<code>Alternate Hypothesis</code> There is correlation between instructor beauty score and evaluation score**"
   ]
  },
  {
   "cell_type": "code",
   "execution_count": 23,
   "id": "e8eb7e18",
   "metadata": {},
   "outputs": [
    {
     "data": {
      "image/png": "[encoded data removed]",
      "text/plain": [
       "<Figure size 1296x504 with 1 Axes>"
      ]
     },
     "metadata": {
      "needs_background": "light"
     },
     "output_type": "display_data"
    }
   ],
   "source": [
    "plt.figure(figsize = (18, 7))\n",
    "sns.scatterplot(x = \"eval\", y = \"beauty\", data = df, s = 100, color = \"red\")\n",
    "plt.title(\"Scatter Plot of Evaluation Score by Beauty Score\", color = \"blue\", size = 20)\n",
    "plt.xlabel(\"Evaluation Score\", color = \"blue\", size = 20)\n",
    "plt.ylabel(\"Beauty Score\", color = \"blue\", size = 20)\n",
    "plt.xticks(size = 15)\n",
    "plt.yticks(size = 15)\n",
    "plt.show()"
   ]
  },
  {
   "cell_type": "code",
   "execution_count": 24,
   "id": "739d0ce2",
   "metadata": {},
   "outputs": [
    {
     "data": {
      "text/html": [
       "<div>\n",
       "<style scoped>\n",
       "    .dataframe tbody tr th:only-of-type {\n",
       "        vertical-align: middle;\n",
       "    }\n",
       "\n",
       "    .dataframe tbody tr th {\n",
       "        vertical-align: top;\n",
       "    }\n",
       "\n",
       "    .dataframe thead th {\n",
       "        text-align: right;\n",
       "    }\n",
       "</style>\n",
       "<table border=\"1\" class=\"dataframe\">\n",
       "  <thead>\n",
       "    <tr style=\"text-align: right;\">\n",
       "      <th></th>\n",
       "      <th>beauty</th>\n",
       "      <th>eval</th>\n",
       "    </tr>\n",
       "  </thead>\n",
       "  <tbody>\n",
       "    <tr>\n",
       "      <th>beauty</th>\n",
       "      <td>1.000000</td>\n",
       "      <td>0.189039</td>\n",
       "    </tr>\n",
       "    <tr>\n",
       "      <th>eval</th>\n",
       "      <td>0.189039</td>\n",
       "      <td>1.000000</td>\n",
       "    </tr>\n",
       "  </tbody>\n",
       "</table>\n",
       "</div>"
      ],
      "text/plain": [
       "          beauty      eval\n",
       "beauty  1.000000  0.189039\n",
       "eval    0.189039  1.000000"
      ]
     },
     "execution_count": 24,
     "metadata": {},
     "output_type": "execute_result"
    }
   ],
   "source": [
    "df[[\"beauty\", \"eval\"]].corr()"
   ]
  },
  {
   "cell_type": "markdown",
   "id": "e0ddb80e",
   "metadata": {},
   "source": [
    "**Test**"
   ]
  },
  {
   "cell_type": "code",
   "execution_count": 25,
   "id": "c6169c59",
   "metadata": {},
   "outputs": [
    {
     "name": "stdout",
     "output_type": "stream",
     "text": [
      "Correlation = 0.18903909084045212, P-Value = 4.247115419812614e-05\n"
     ]
    }
   ],
   "source": [
    "p_stats, pvalue = pearsonr(df[\"beauty\"], df[\"eval\"])\n",
    "print(f\"Correlation = {p_stats}, P-Value = {pvalue}\")"
   ]
  },
  {
   "cell_type": "markdown",
   "id": "5dc6b883",
   "metadata": {},
   "source": [
    "**Test Result**"
   ]
  },
  {
   "cell_type": "code",
   "execution_count": 26,
   "id": "fe61f3bf",
   "metadata": {},
   "outputs": [
    {
     "name": "stdout",
     "output_type": "stream",
     "text": [
      "Accept Alternate Hypothesis\n"
     ]
    }
   ],
   "source": [
    "if pvalue > 0.05:\n",
    "    print(\"Accept Null Hypothesis\")\n",
    "else:\n",
    "    print(\"Accept Alternate Hypothesis\")"
   ]
  },
  {
   "cell_type": "markdown",
   "id": "dad166d4",
   "metadata": {},
   "source": [
    "### Perform a two-sample t-test for independent samples."
   ]
  },
  {
   "cell_type": "code",
   "execution_count": 27,
   "id": "3452f1a0",
   "metadata": {},
   "outputs": [],
   "source": [
    "Sample1 = [9, 11, 10,11,10,12, 9,11,12, 9, 10]\n",
    "Sample2 = [10, 13, 10, 13, 12, 9, 11, 12, 12, 12, 13]"
   ]
  },
  {
   "cell_type": "code",
   "execution_count": 28,
   "id": "fc7aef34",
   "metadata": {},
   "outputs": [
    {
     "data": {
      "text/plain": [
       "Ttest_indResult(statistic=-2.2164816032790386, pvalue=0.03841461541539729)"
      ]
     },
     "execution_count": 28,
     "metadata": {},
     "output_type": "execute_result"
    }
   ],
   "source": [
    "ttest_ind(Sample1, Sample2)"
   ]
  },
  {
   "cell_type": "markdown",
   "id": "1c71e366",
   "metadata": {},
   "source": [
    "### Mean μ = 63.18 inches and Standard Deviation σ= 13.27 inches. What is the Z-score when x = 91.54 inches?"
   ]
  },
  {
   "cell_type": "code",
   "execution_count": 29,
   "id": "6cba1d69",
   "metadata": {},
   "outputs": [
    {
     "data": {
      "text/plain": [
       "2.138658628485306"
      ]
     },
     "execution_count": 29,
     "metadata": {},
     "output_type": "execute_result"
    }
   ],
   "source": [
    "z_score = (91.54 - 63.16) / 13.27\n",
    "z_score"
   ]
  },
  {
   "cell_type": "markdown",
   "id": "1ae6bc6d",
   "metadata": {},
   "source": [
    "### Average Wage = 5.85, Standard Deviation = 0.35, The probability that a selected worker earns more than 6.90?"
   ]
  },
  {
   "cell_type": "code",
   "execution_count": 30,
   "id": "ae8d2622",
   "metadata": {},
   "outputs": [
    {
     "name": "stdout",
     "output_type": "stream",
     "text": [
      "0.0013498980316301035\n"
     ]
    }
   ],
   "source": [
    "prob = scipy.stats.norm.cdf((6.90 - 5.85) / 0.35)\n",
    "print(1- prob)"
   ]
  },
  {
   "cell_type": "markdown",
   "id": "297dd4b9",
   "metadata": {},
   "source": [
    "### Mean = 490, Variance = 400, Probability that a randomly selected pill contains at least 500 mg of minerals"
   ]
  },
  {
   "cell_type": "code",
   "execution_count": 31,
   "id": "37affd61",
   "metadata": {},
   "outputs": [
    {
     "name": "stdout",
     "output_type": "stream",
     "text": [
      "0.3085375387259869\n"
     ]
    }
   ],
   "source": [
    "prob2 = scipy.stats.norm.cdf((500 - 490) / 20)\n",
    "print(1 - prob2)"
   ]
  },
  {
   "cell_type": "markdown",
   "id": "426c82c2",
   "metadata": {},
   "source": [
    "### BOSTON Dataset"
   ]
  },
  {
   "cell_type": "code",
   "execution_count": 32,
   "id": "dfd6cb6b",
   "metadata": {},
   "outputs": [],
   "source": [
    "boston_url = 'https://cf-courses-data.s3.us.cloud-object-storage.appdomain.cloud/IBMDeveloperSkillsNetwork-ST0151EN-SkillsNetwork/labs/boston_housing.csv'\n",
    "boston_df=pd.read_csv(boston_url)"
   ]
  },
  {
   "cell_type": "code",
   "execution_count": 34,
   "id": "c6535ad3",
   "metadata": {},
   "outputs": [
    {
     "data": {
      "text/html": [
       "<div>\n",
       "<style scoped>\n",
       "    .dataframe tbody tr th:only-of-type {\n",
       "        vertical-align: middle;\n",
       "    }\n",
       "\n",
       "    .dataframe tbody tr th {\n",
       "        vertical-align: top;\n",
       "    }\n",
       "\n",
       "    .dataframe thead th {\n",
       "        text-align: right;\n",
       "    }\n",
       "</style>\n",
       "<table border=\"1\" class=\"dataframe\">\n",
       "  <thead>\n",
       "    <tr style=\"text-align: right;\">\n",
       "      <th></th>\n",
       "      <th>CRIM</th>\n",
       "      <th>ZN</th>\n",
       "      <th>INDUS</th>\n",
       "      <th>CHAS</th>\n",
       "      <th>NOX</th>\n",
       "      <th>RM</th>\n",
       "      <th>AGE</th>\n",
       "      <th>DIS</th>\n",
       "      <th>RAD</th>\n",
       "      <th>TAX</th>\n",
       "      <th>PTRATIO</th>\n",
       "      <th>LSTAT</th>\n",
       "      <th>MEDV</th>\n",
       "    </tr>\n",
       "  </thead>\n",
       "  <tbody>\n",
       "    <tr>\n",
       "      <th>493</th>\n",
       "      <td>0.17331</td>\n",
       "      <td>0.0</td>\n",
       "      <td>9.69</td>\n",
       "      <td>0.0</td>\n",
       "      <td>0.585</td>\n",
       "      <td>5.707</td>\n",
       "      <td>54.0</td>\n",
       "      <td>2.3817</td>\n",
       "      <td>6.0</td>\n",
       "      <td>391.0</td>\n",
       "      <td>19.2</td>\n",
       "      <td>12.01</td>\n",
       "      <td>21.8</td>\n",
       "    </tr>\n",
       "    <tr>\n",
       "      <th>367</th>\n",
       "      <td>13.52220</td>\n",
       "      <td>0.0</td>\n",
       "      <td>18.10</td>\n",
       "      <td>0.0</td>\n",
       "      <td>0.631</td>\n",
       "      <td>3.863</td>\n",
       "      <td>100.0</td>\n",
       "      <td>1.5106</td>\n",
       "      <td>24.0</td>\n",
       "      <td>666.0</td>\n",
       "      <td>20.2</td>\n",
       "      <td>13.33</td>\n",
       "      <td>23.1</td>\n",
       "    </tr>\n",
       "    <tr>\n",
       "      <th>419</th>\n",
       "      <td>11.81230</td>\n",
       "      <td>0.0</td>\n",
       "      <td>18.10</td>\n",
       "      <td>0.0</td>\n",
       "      <td>0.718</td>\n",
       "      <td>6.824</td>\n",
       "      <td>76.5</td>\n",
       "      <td>1.7940</td>\n",
       "      <td>24.0</td>\n",
       "      <td>666.0</td>\n",
       "      <td>20.2</td>\n",
       "      <td>22.74</td>\n",
       "      <td>8.4</td>\n",
       "    </tr>\n",
       "    <tr>\n",
       "      <th>182</th>\n",
       "      <td>0.09103</td>\n",
       "      <td>0.0</td>\n",
       "      <td>2.46</td>\n",
       "      <td>0.0</td>\n",
       "      <td>0.488</td>\n",
       "      <td>7.155</td>\n",
       "      <td>92.2</td>\n",
       "      <td>2.7006</td>\n",
       "      <td>3.0</td>\n",
       "      <td>193.0</td>\n",
       "      <td>17.8</td>\n",
       "      <td>4.82</td>\n",
       "      <td>37.9</td>\n",
       "    </tr>\n",
       "    <tr>\n",
       "      <th>421</th>\n",
       "      <td>7.02259</td>\n",
       "      <td>0.0</td>\n",
       "      <td>18.10</td>\n",
       "      <td>0.0</td>\n",
       "      <td>0.718</td>\n",
       "      <td>6.006</td>\n",
       "      <td>95.3</td>\n",
       "      <td>1.8746</td>\n",
       "      <td>24.0</td>\n",
       "      <td>666.0</td>\n",
       "      <td>20.2</td>\n",
       "      <td>15.70</td>\n",
       "      <td>14.2</td>\n",
       "    </tr>\n",
       "  </tbody>\n",
       "</table>\n",
       "</div>"
      ],
      "text/plain": [
       "         CRIM   ZN  INDUS  CHAS    NOX     RM    AGE     DIS   RAD    TAX  \\\n",
       "493   0.17331  0.0   9.69   0.0  0.585  5.707   54.0  2.3817   6.0  391.0   \n",
       "367  13.52220  0.0  18.10   0.0  0.631  3.863  100.0  1.5106  24.0  666.0   \n",
       "419  11.81230  0.0  18.10   0.0  0.718  6.824   76.5  1.7940  24.0  666.0   \n",
       "182   0.09103  0.0   2.46   0.0  0.488  7.155   92.2  2.7006   3.0  193.0   \n",
       "421   7.02259  0.0  18.10   0.0  0.718  6.006   95.3  1.8746  24.0  666.0   \n",
       "\n",
       "     PTRATIO  LSTAT  MEDV  \n",
       "493     19.2  12.01  21.8  \n",
       "367     20.2  13.33  23.1  \n",
       "419     20.2  22.74   8.4  \n",
       "182     17.8   4.82  37.9  \n",
       "421     20.2  15.70  14.2  "
      ]
     },
     "execution_count": 34,
     "metadata": {},
     "output_type": "execute_result"
    }
   ],
   "source": [
    "boston_df = boston_df.drop(columns = [\"Unnamed: 0\"])\n",
    "boston_df.sample(5)"
   ]
  },
  {
   "cell_type": "markdown",
   "id": "97ba26d5",
   "metadata": {},
   "source": [
    "**<code>Boxplot:</code> \"Median value of owner-occupied homes\"**"
   ]
  },
  {
   "cell_type": "code",
   "execution_count": 39,
   "id": "910fd530",
   "metadata": {},
   "outputs": [
    {
     "data": {
      "image/png": "[encoded data removed]",
      "text/plain": [
       "<Figure size 1296x504 with 1 Axes>"
      ]
     },
     "metadata": {
      "needs_background": "light"
     },
     "output_type": "display_data"
    }
   ],
   "source": [
    "plt.figure(figsize = (18, 7))\n",
    "sns.boxplot(x = boston_df[\"MEDV\"], color = \"pink\")\n",
    "plt.title(\"Distribution of Median value of owner-occupied homes in $1000's\", size = 20, color = \"red\")\n",
    "plt.xticks(size = 15)\n",
    "plt.yticks(size = 15)\n",
    "plt.xlabel(\"Median value of owner-occupied homes in $1000's\", color = \"red\", size = 20)\n",
    "plt.show()"
   ]
  },
  {
   "cell_type": "markdown",
   "id": "5281da59",
   "metadata": {},
   "source": [
    "**Houses at Charles River**"
   ]
  },
  {
   "cell_type": "code",
   "execution_count": 48,
   "id": "15615800",
   "metadata": {},
   "outputs": [
    {
     "data": {
      "image/png": "[encoded data removed]",
      "text/plain": [
       "<Figure size 1296x504 with 1 Axes>"
      ]
     },
     "metadata": {
      "needs_background": "light"
     },
     "output_type": "display_data"
    }
   ],
   "source": [
    "plt.figure(figsize = (18, 7))\n",
    "sns.countplot(x = boston_df[\"CHAS\"])\n",
    "plt.xlabel(\"Houses at Charles River\", size = 20)\n",
    "plt.ylabel(\"Frequency\", size = 20)\n",
    "plt.xticks([0.0, 1.0], labels = [\"No\", \"Yes\"], size = 15)\n",
    "plt.yticks(size = 15)\n",
    "plt.show()"
   ]
  },
  {
   "cell_type": "markdown",
   "id": "e02dfa00",
   "metadata": {},
   "source": [
    "**Median Value by House Age**"
   ]
  },
  {
   "cell_type": "code",
   "execution_count": 51,
   "id": "d873ae4c",
   "metadata": {},
   "outputs": [],
   "source": [
    "def age(x):\n",
    "    if x <= 35:\n",
    "        return \"new\"\n",
    "    elif x > 35 and x <= 70:\n",
    "        return \"moderate\"\n",
    "    else:\n",
    "        return \"old\"\n",
    "    \n",
    "boston_df[\"age_group\"] = boston_df[\"AGE\"].apply(age)"
   ]
  },
  {
   "cell_type": "code",
   "execution_count": 55,
   "id": "785f2286",
   "metadata": {},
   "outputs": [
    {
     "data": {
      "image/png": "[encoded data removed]",
      "text/plain": [
       "<Figure size 1296x504 with 1 Axes>"
      ]
     },
     "metadata": {
      "needs_background": "light"
     },
     "output_type": "display_data"
    }
   ],
   "source": [
    "plt.figure(figsize = (18, 7))\n",
    "sns.boxplot(x = boston_df[\"age_group\"], y = boston_df[\"MEDV\"], palette = \"prism\")\n",
    "plt.title(\"Age Group of House by Median value of homes in $1000's\", size = 20, color = \"red\")\n",
    "plt.xlabel(\"Age Group of House\", size = 20, color = \"red\")\n",
    "plt.ylabel(\"Median value of homes in $1000's\", size = 20, color = \"red\")\n",
    "plt.xticks(size = 15)\n",
    "plt.yticks(size = 15)\n",
    "plt.show()"
   ]
  },
  {
   "cell_type": "markdown",
   "id": "ca0d09dc",
   "metadata": {},
   "source": [
    "**Scatter Plot between Nitric oxide concentrations and the proportion of non-retail business acres per town**"
   ]
  },
  {
   "cell_type": "code",
   "execution_count": 61,
   "id": "e6c9e130",
   "metadata": {},
   "outputs": [
    {
     "data": {
      "image/png": "[encoded data removed]",
      "text/plain": [
       "<Figure size 1296x504 with 1 Axes>"
      ]
     },
     "metadata": {
      "needs_background": "light"
     },
     "output_type": "display_data"
    }
   ],
   "source": [
    "plt.figure(figsize = (18, 7))\n",
    "sns.scatterplot(x = \"NOX\", y = \"INDUS\", data = boston_df, s = 100, color = \"blue\")\n",
    "plt.title(\"Scatter Plot between Nitric oxide concentrations and the proportion of non-retail business acres per town\", color = \"red\", size = 20)\n",
    "plt.xlabel(\"Nitric Oxide\", size = 20, color = \"red\")\n",
    "plt.ylabel(\"Non-Retail business acres\", size = 20, color = \"red\")\n",
    "plt.xticks(size = 15)\n",
    "plt.yticks(size = 15)\n",
    "plt.show()"
   ]
  },
  {
   "cell_type": "markdown",
   "id": "dd35b566",
   "metadata": {},
   "source": [
    "**Histogram for the pupil to teacher ratio variable**"
   ]
  },
  {
   "cell_type": "code",
   "execution_count": 66,
   "id": "baa23474",
   "metadata": {},
   "outputs": [
    {
     "data": {
      "image/png": "[encoded data removed]",
      "text/plain": [
       "<Figure size 1296x504 with 1 Axes>"
      ]
     },
     "metadata": {
      "needs_background": "light"
     },
     "output_type": "display_data"
    }
   ],
   "source": [
    "plt.figure(figsize = (18, 7))\n",
    "sns.histplot(x = boston_df[\"PTRATIO\"], color = \"yellow\", bins = 5)\n",
    "plt.title(\"Histogram for the pupil to teacher ratio variable\", color = \"brown\", size = 20)\n",
    "plt.xlabel(\"Pupil to Teacher Ratio\", size = 20, color = \"brown\")\n",
    "plt.ylabel(\"Frequency\", size = 20, color = \"brown\")\n",
    "plt.xticks(size = 15)\n",
    "plt.yticks(size = 15)\n",
    "plt.show()"
   ]
  },
  {
   "cell_type": "markdown",
   "id": "48553424",
   "metadata": {},
   "source": [
    "### Is there a significant difference in median value of houses bounded by the Charles river or not? (T-test for independent samples)"
   ]
  },
  {
   "cell_type": "markdown",
   "id": "19b6e9d0",
   "metadata": {},
   "source": [
    "### <code>T-Test</code>\n",
    "**<code>Null Hypothesis</code>House Price independent of Charles River**<p>\n",
    "**<code>Alternate Hypothesis</code> House Price dependent on Charles River**"
   ]
  },
  {
   "cell_type": "code",
   "execution_count": 67,
   "id": "934712a1",
   "metadata": {},
   "outputs": [],
   "source": [
    "hcr = boston_df[boston_df[\"CHAS\"] == 1][\"MEDV\"]\n",
    "hncr = boston_df[boston_df[\"CHAS\"] == 0][\"MEDV\"]"
   ]
  },
  {
   "cell_type": "markdown",
   "id": "9a0eeb14",
   "metadata": {},
   "source": [
    "**Test**"
   ]
  },
  {
   "cell_type": "code",
   "execution_count": 69,
   "id": "96a6368e",
   "metadata": {},
   "outputs": [
    {
     "name": "stdout",
     "output_type": "stream",
     "text": [
      "T-Statistics = 3.996437466090509, P-Value = 7.390623170519905e-05\n"
     ]
    }
   ],
   "source": [
    "t_stats, p_value = ttest_ind(hcr, hncr)\n",
    "print(f\"T-Statistics = {t_stats}, P-Value = {p_value}\")"
   ]
  },
  {
   "cell_type": "markdown",
   "id": "88edc720",
   "metadata": {},
   "source": [
    "**Test Result**"
   ]
  },
  {
   "cell_type": "code",
   "execution_count": 70,
   "id": "4f0eb505",
   "metadata": {},
   "outputs": [
    {
     "name": "stdout",
     "output_type": "stream",
     "text": [
      "Accept Alternate Hypothesis\n"
     ]
    }
   ],
   "source": [
    "if p_value > 0.05:\n",
    "    print(\"Accept Null Hypothesis\")\n",
    "else:\n",
    "    print(\"Accept Alternate Hypothesis\")"
   ]
  },
  {
   "cell_type": "markdown",
   "id": "d9a0992e",
   "metadata": {},
   "source": [
    "### Is there a difference in Median values of houses (MEDV) for each proportion of owner occupied units built prior to 1940 (AGE)? (ANOVA)"
   ]
  },
  {
   "cell_type": "markdown",
   "id": "fe079101",
   "metadata": {},
   "source": [
    "### <code>ANOVA</code>\n",
    "**<code>Null Hypothesis</code>House Price is not different by Age**<p>\n",
    "**<code>Alternate Hypothesis</code> House Price is different by AGE**"
   ]
  },
  {
   "cell_type": "code",
   "execution_count": 72,
   "id": "bcf64f25",
   "metadata": {},
   "outputs": [],
   "source": [
    "new_house = boston_df[boston_df[\"age_group\"] == \"new\"][\"MEDV\"]\n",
    "moderate_house = boston_df[boston_df[\"age_group\"] == \"moderate\"][\"MEDV\"]\n",
    "old_house = boston_df[boston_df[\"age_group\"] == \"old\"][\"MEDV\"]"
   ]
  },
  {
   "cell_type": "markdown",
   "id": "c9c57a36",
   "metadata": {},
   "source": [
    "**Test**"
   ]
  },
  {
   "cell_type": "code",
   "execution_count": 73,
   "id": "26ce4749",
   "metadata": {},
   "outputs": [
    {
     "name": "stdout",
     "output_type": "stream",
     "text": [
      "F-Statistics = 36.40764999196599, P-Value = 1.7105011022702984e-15\n"
     ]
    }
   ],
   "source": [
    "f_stats, p_value = f_oneway(new_house, moderate_house, old_house)\n",
    "print(f\"F-Statistics = {f_stats}, P-Value = {p_value}\")"
   ]
  },
  {
   "cell_type": "markdown",
   "id": "cf3dda90",
   "metadata": {},
   "source": [
    "**Test Result**"
   ]
  },
  {
   "cell_type": "code",
   "execution_count": 75,
   "id": "ce6e348f",
   "metadata": {},
   "outputs": [
    {
     "name": "stdout",
     "output_type": "stream",
     "text": [
      "Accept Alternate Hypothesis\n"
     ]
    }
   ],
   "source": [
    "if p_value > 0.05:\n",
    "    print(\"Accept Null Hypothesis\")\n",
    "else:\n",
    "    print(\"Accept Alternate Hypothesis\")"
   ]
  },
  {
   "cell_type": "markdown",
   "id": "361c8a9c",
   "metadata": {},
   "source": [
    "### Can we conclude that there is no relationship between Nitric oxide concentrations and proportion of non-retail business acres per town? (Pearson Correlation)"
   ]
  },
  {
   "cell_type": "markdown",
   "id": "ac9f068c",
   "metadata": {},
   "source": [
    "### <code>Pearson Correlation</code>\n",
    "**<code>Null Hypothesis</code> There is NO relationship between Nitric Oxide concentrations and proportion of non-retail business acres per town**<p>\n",
    "**<code>Alternate Hypothesis</code> There is relationship between Nitric Oxide concentrations and proportion of non-retail business acres per town**"
   ]
  },
  {
   "cell_type": "code",
   "execution_count": 76,
   "id": "b5e1167d",
   "metadata": {},
   "outputs": [
    {
     "name": "stdout",
     "output_type": "stream",
     "text": [
      "Pearson Correlation = 0.763651446920915, P-Value = 7.913361061239593e-98\n"
     ]
    }
   ],
   "source": [
    "pc_stats, p_value = pearsonr(boston_df[\"NOX\"], boston_df[\"INDUS\"])\n",
    "print(f\"Pearson Correlation = {pc_stats}, P-Value = {p_value}\")"
   ]
  },
  {
   "cell_type": "markdown",
   "id": "0e6160ae",
   "metadata": {},
   "source": [
    "**Test Result**"
   ]
  },
  {
   "cell_type": "code",
   "execution_count": 77,
   "id": "15138726",
   "metadata": {},
   "outputs": [
    {
     "name": "stdout",
     "output_type": "stream",
     "text": [
      "Accept Alternate Hypothesis\n"
     ]
    }
   ],
   "source": [
    "if p_value > 0.05:\n",
    "    print(\"Accept Null Hypothesis\")\n",
    "else:\n",
    "    print(\"Accept Alternate Hypothesis\")"
   ]
  },
  {
   "cell_type": "markdown",
   "id": "5065d379",
   "metadata": {},
   "source": [
    "### What is the impact of an additional weighted distance  to the five Boston employment centres on the median value of owner occupied homes? (Regression analysis)"
   ]
  },
  {
   "cell_type": "code",
   "execution_count": null,
   "id": "e10f22a3",
   "metadata": {},
   "outputs": [],
   "source": []
  }
 ],
 "metadata": {
  "kernelspec": {
   "display_name": "Python 3",
   "language": "python",
   "name": "python3"
  },
  "language_info": {
   "codemirror_mode": {
    "name": "ipython",
    "version": 3
   },
   "file_extension": ".py",
   "mimetype": "text/x-python",
   "name": "python",
   "nbconvert_exporter": "python",
   "pygments_lexer": "ipython3",
   "version": "3.8.8"
  }
 },
 "nbformat": 4,
 "nbformat_minor": 5
}
